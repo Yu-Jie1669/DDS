{
 "cells": [
  {
   "cell_type": "markdown",
   "source": [
    "数据处理\n",
    "训练/测试数据：\n",
    "来自[O'Neil](http://www.bioinf.jku.at/software/DeepSynergy/labels.csv)\n",
    "来自[DrugCombDB](https://drugcomb.fimm.fi/)\n",
    "构图数据：\n",
    "边：\n",
    "- 药物-药物结构相似性：\n",
    "[DrugBank](https://go.drugbank.com/releases/latest)\n",
    "[PubChem](https://pubchem.ncbi.nlm.nih.gov/)\n",
    "[CHEMBL](https://www.ebi.ac.uk/chembl/)\n",
    "获取SMILES 经过rdkit计算分子相似性\n",
    "- 药物-靶蛋白关联关系：\n",
    "[DrugBank](https://go.drugbank.com/releases/latest)\n",
    "[STITCH](http://stitch.embl.de/)\n",
    "[CHEMBL](https://www.ebi.ac.uk/chembl/)\n",
    "寻找药物的target\n",
    "- 癌细胞系-蛋白质关联关系：\n",
    "[CCLE](https://sites.broadinstitute.org/ccle/)\n",
    "癌细胞系突变改变的蛋白质\n",
    "- 蛋白质相互作用：\n",
    "[STRING](https://cn.string-db.org/)\n",
    "[BioGRID](https://thebiogrid.org/)\n",
    "节点：\n",
    "- 药物特征：\n",
    "rdkit描述符计算(https://blog.csdn.net/qq_36801966/article/details/107028297)\n",
    "分子图\n",
    "- 蛋白质特征：\n",
    "用Python的iFeature包计算蛋白质结构、物理化学描述符(https://github.com/Superzchen/iFeature)\n",
    "- 癌细胞特征：\n",
    "ArrayExpress基因表达谱"
   ],
   "metadata": {
    "collapsed": false,
    "pycharm": {
     "name": "#%% md\n"
    }
   }
  },
  {
   "cell_type": "code",
   "execution_count": 11,
   "outputs": [],
   "source": [
    "\"\"\"\n",
    "O'Neil 数据集\n",
    "col: [ , drug_a_name, drug_b_name, cell_line, synergy, fold]\n",
    "synergy >= 30 ->协同； <30 ->不协同\n",
    "按照Fold分成5-fold\n",
    "\"\"\"\n",
    "\n",
    "import pandas as pd\n",
    "import os\n",
    "\n",
    "raw_data = pd.read_csv(\"./data/oneil/labels.csv\")\n",
    "\n",
    "for index, item in raw_data.iterrows():\n",
    "    if item['synergy'] >= 30.0:\n",
    "        raw_data.loc[index, 'label'] = 1\n",
    "    else:\n",
    "        raw_data.loc[index, 'label'] = 0\n",
    "raw_data['label'] = raw_data['label'].astype(int)\n",
    "\n",
    "folded_data = raw_data.groupby('fold')\n",
    "for key in range(5):\n",
    "    test_fold = folded_data.get_group(key)\n",
    "    train = []\n",
    "    for train_key in range(5):\n",
    "        if train_key != key:\n",
    "            train.append(folded_data.get_group(train_key))\n",
    "    train_fold = pd.concat(train)\n",
    "\n",
    "    output_dir = \"./data/oneil/fold\" + str(key)\n",
    "    if not os.path.exists(output_dir):\n",
    "        os.mkdir(output_dir)\n",
    "    test_fold.to_csv(os.path.join(output_dir, \"test.csv\"))\n",
    "    train_fold.to_csv(os.path.join(output_dir, \"train.csv\"))\n",
    "\n",
    "raw_data.to_csv(\"./data/oneil/processed_label_data.csv\")"
   ],
   "metadata": {
    "collapsed": false,
    "pycharm": {
     "name": "#%%\n"
    }
   }
  },
  {
   "cell_type": "code",
   "execution_count": 5,
   "outputs": [],
   "source": [
    "from time import sleep\n",
    "\n",
    "\"\"\"\n",
    "计算药物结构相似性：\n",
    "1. 先获得oneil数据drug列表\n",
    "2. 再获得SMILES\n",
    "3. 利用rdkit计算相似性\n",
    "\"\"\"\n",
    "\n",
    "# 获得SMILES\n",
    "import pubchempy as pcp\n",
    "import pandas as pd\n",
    "import pickle\n",
    "\n",
    "raw_data = pd.read_csv(\"./data/oneil/processed_label_data.csv\")\n",
    "drug_list = set(raw_data['drug_a_name']).union(set(raw_data['drug_b_name']))\n",
    "\n",
    "drug_dict = {}\n",
    "for drug_name in drug_list:\n",
    "    try:\n",
    "        drug_c = pcp.get_compounds(drug_name, \"name\")\n",
    "        drug_dict[drug_name] = drug_c\n",
    "    except Exception as e:\n",
    "        sleep(5)\n",
    "        drug_c = pcp.get_compounds(drug_name, \"name\")\n",
    "        drug_dict[drug_name] = drug_c\n",
    "\n",
    "with open(\"./data/oneil/drug_dict.pkl\", \"wb\") as tf:\n",
    "    pickle.dump(drug_dict, tf)\n",
    "\n",
    "simple_drug_dict = {}\n",
    "for key in drug_dict.keys():\n",
    "    simple_drug_dict[key] = {\"cid\": drug_dict[key][0].cid, \"smiles\": drug_dict[key][0].isomeric_smiles}\n",
    "\n",
    "with open(\"./data/oneil/simple_drug_dict.pkl\", \"wb\") as tf:\n",
    "    pickle.dump(simple_drug_dict, tf)"
   ],
   "metadata": {
    "collapsed": false,
    "pycharm": {
     "name": "#%%\n"
    }
   }
  },
  {
   "cell_type": "code",
   "execution_count": 11,
   "outputs": [],
   "source": [
    "import itertools\n",
    "import pickle\n",
    "from rdkit import Chem, DataStructs\n",
    "import pandas as pd\n",
    "\n",
    "# 计算结构相似性\n",
    "with open(\"./data/oneil/simple_drug_dict.pkl\", \"rb\") as tf:\n",
    "    simple_drug_dict = pickle.load(tf)\n",
    "\n",
    "for key in simple_drug_dict.keys():\n",
    "    mol = Chem.MolFromSmiles(simple_drug_dict[key][0]['smiles'])\n",
    "    simple_drug_dict[key][0]['RDKFingerprint'] = Chem.RDKFingerprint(mol)\n",
    "\n",
    "combs = itertools.combinations(simple_drug_dict.keys(), 2)\n",
    "\n",
    "simi_matrix = pd.DataFrame(index=simple_drug_dict.keys(), columns=simple_drug_dict.keys())\n",
    "\n",
    "for index, row in simi_matrix.iterrows():\n",
    "    for col in simi_matrix.columns:\n",
    "        if index == col:\n",
    "            simi_matrix.loc[index, col] = 0.0\n",
    "        else:\n",
    "            simi_matrix.loc[index, col] = DataStructs.FingerprintSimilarity(\n",
    "                simple_drug_dict[index][0]['RDKFingerprint'],\n",
    "                simple_drug_dict[col][0]['RDKFingerprint']\n",
    "            )\n",
    "\n",
    "simi_matrix.to_csv(\"./data/oneil/graph/drug-drug.csv\")"
   ],
   "metadata": {
    "collapsed": false,
    "pycharm": {
     "name": "#%%\n"
    }
   }
  },
  {
   "cell_type": "code",
   "execution_count": null,
   "outputs": [],
   "source": [
    "'''\n",
    "药物-蛋白质关联关系：\n",
    "等DrugBank\n",
    "'''\n",
    "\n"
   ],
   "metadata": {
    "collapsed": false,
    "pycharm": {
     "name": "#%%\n"
    }
   }
  },
  {
   "cell_type": "code",
   "execution_count": 8,
   "outputs": [],
   "source": [
    "\"\"\"\n",
    "癌细胞系-蛋白质关联关系：\n",
    "CCLE 癌细胞系突变影响的蛋白质\n",
    "\"\"\"\n",
    "import pandas as pd\n",
    "\n",
    "mutation_data = pd.read_csv(\"./data/OmicsSomaticMutationsMatrixDamaging.csv\")\n",
    "\n",
    "\n"
   ],
   "metadata": {
    "collapsed": false,
    "ExecuteTime": {
     "end_time": "2023-05-08T14:30:19.033386100Z",
     "start_time": "2023-05-08T14:30:06.943663500Z"
    }
   }
  },
  {
   "cell_type": "code",
   "execution_count": null,
   "outputs": [],
   "source": [
    "\"\"\"\n",
    "蛋白质相互作用\n",
    "\"\"\""
   ],
   "metadata": {
    "collapsed": false
   }
  },
  {
   "cell_type": "code",
   "execution_count": 6,
   "outputs": [
    {
     "name": "stderr",
     "output_type": "stream",
     "text": [
      "calculating mol desc: 100%|██████████| 38/38 [00:00<00:00, 73.34it/s]\n"
     ]
    }
   ],
   "source": [
    "from tqdm import tqdm\n",
    "\n",
    "'''\n",
    "药物特征：\n",
    "rdkit 计算\n",
    "'''\n",
    "\n",
    "import pickle\n",
    "from rdkit import Chem\n",
    "from rdkit.Chem import Descriptors\n",
    "from rdkit.ML.Descriptors import MoleculeDescriptors\n",
    "import pandas as pd\n",
    "\n",
    "with open(\"./data/oneil/simple_drug_dict.pkl\", 'rb') as tf:\n",
    "    simple_drug_dict = pickle.load(tf)\n",
    "\n",
    "# 一共209个描述符\n",
    "all_tuple = Descriptors._descList\n",
    "descList = []\n",
    "for t in all_tuple:\n",
    "    descList.append(t[0])\n",
    "\n",
    "calculator = MoleculeDescriptors.MolecularDescriptorCalculator(descList)\n",
    "\n",
    "drug_feature = []\n",
    "for key in tqdm(simple_drug_dict.keys(), desc=\"calculating mol desc\"):\n",
    "    smiles = simple_drug_dict[key]['smiles']\n",
    "    desc = calculator.CalcDescriptors(Chem.MolFromSmiles(smiles))\n",
    "    simple_drug_dict[key]['desc'] = desc\n",
    "    drug_feature.append(list(desc))\n",
    "\n",
    "\n",
    "drug_matrix = pd.DataFrame(index=simple_drug_dict.keys(), columns=[\"feature_\"+str(i) for i in range(209)], data=drug_feature)\n",
    "\n",
    "drug_matrix.to_csv(\"./data/oneil/graph/node_drug.csv\")"
   ],
   "metadata": {
    "collapsed": false,
    "ExecuteTime": {
     "end_time": "2023-05-08T08:34:49.928964100Z",
     "start_time": "2023-05-08T08:34:49.375982200Z"
    }
   }
  },
  {
   "cell_type": "code",
   "execution_count": 14,
   "outputs": [],
   "source": [
    "import pandas as pd\n",
    "\n",
    "our_f_cell = pd.read_csv(\"./data/ous/Feature_CELL.csv\")\n",
    "our_cell = list(our_f_cell['Cell_Line_Name'])\n",
    "\n",
    "for i in range(len(our_cell)):\n",
    "    our_cell[i] = our_cell[i].replace(\"-\",\"\")\n",
    "our_cell = pd.DataFrame(sorted(set(our_cell)))\n",
    "\n",
    "d_c_f = pd.read_csv(\"./data/DrugCombDB/drug_combinations.csv\")\n",
    "d_c_cell = set(d_c_f['cell'])\n",
    "\n",
    "# union = our_cell.union(d_c_cell)\n",
    "# inter = our_cell.intersection(d_c_cell)\n",
    "# #\n",
    "# print(our_cell)\n",
    "# print(d_c_cell)"
   ],
   "metadata": {
    "collapsed": false,
    "ExecuteTime": {
     "end_time": "2023-05-13T08:25:37.798684900Z",
     "start_time": "2023-05-13T08:25:37.706000800Z"
    }
   }
  },
  {
   "cell_type": "code",
   "execution_count": 15,
   "outputs": [],
   "source": [],
   "metadata": {
    "collapsed": false,
    "ExecuteTime": {
     "end_time": "2023-05-13T08:26:59.656549500Z",
     "start_time": "2023-05-13T08:26:59.638713100Z"
    }
   }
  },
  {
   "cell_type": "markdown",
   "source": [],
   "metadata": {
    "collapsed": false,
    "pycharm": {
     "name": "#%% md\n"
    }
   }
  }
 ],
 "metadata": {
  "kernelspec": {
   "display_name": "Python 3",
   "language": "python",
   "name": "python3"
  },
  "language_info": {
   "codemirror_mode": {
    "name": "ipython",
    "version": 2
   },
   "file_extension": ".py",
   "mimetype": "text/x-python",
   "name": "python",
   "nbconvert_exporter": "python",
   "pygments_lexer": "ipython2",
   "version": "2.7.6"
  }
 },
 "nbformat": 4,
 "nbformat_minor": 0
}
