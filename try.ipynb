{
 "cells": [
  {
   "cell_type": "code",
   "execution_count": 2,
   "metadata": {
    "collapsed": true,
    "pycharm": {
     "name": "#%%\n"
    }
   },
   "outputs": [
    {
     "data": {
      "text/plain": "'C1=C(C(=O)NC(=O)N1)F'"
     },
     "execution_count": 2,
     "metadata": {},
     "output_type": "execute_result"
    }
   ],
   "source": [
    "import pubchempy as pcp\n",
    "\n",
    "c = pcp.get_compounds('5-FU', \"name\")"
   ]
  },
  {
   "cell_type": "code",
   "execution_count": 5,
   "outputs": [],
   "source": [
    "from rdkit.Chem import Descriptors\n",
    "from rdkit.ML.Descriptors import MoleculeDescriptors\n",
    "\n",
    "all = Descriptors._descList\n"
   ],
   "metadata": {
    "collapsed": false,
    "pycharm": {
     "name": "#%%\n"
    },
    "ExecuteTime": {
     "end_time": "2023-05-08T08:28:52.948815400Z",
     "start_time": "2023-05-08T08:28:52.920609Z"
    }
   }
  },
  {
   "cell_type": "code",
   "execution_count": 31,
   "outputs": [
    {
     "data": {
      "text/plain": "{'atc_classifications': [],\n 'availability_type': -1,\n 'biotherapeutic': None,\n 'black_box_warning': 0,\n 'chebi_par_id': None,\n 'chirality': -1,\n 'cross_references': [],\n 'dosed_ingredient': False,\n 'first_approval': None,\n 'first_in_class': -1,\n 'helm_notation': None,\n 'indication_class': None,\n 'inorganic_flag': -1,\n 'max_phase': None,\n 'molecule_chembl_id': 'CHEMBL6329',\n 'molecule_hierarchy': {'active_chembl_id': 'CHEMBL6329',\n  'molecule_chembl_id': 'CHEMBL6329',\n  'parent_chembl_id': 'CHEMBL6329'},\n 'molecule_properties': {'alogp': '2.11',\n  'aromatic_rings': 3,\n  'cx_logd': '2.69',\n  'cx_logp': '3.63',\n  'cx_most_apka': '6.48',\n  'cx_most_bpka': None,\n  'full_molformula': 'C17H12ClN3O3',\n  'full_mwt': '341.75',\n  'hba': 5,\n  'hba_lipinski': 6,\n  'hbd': 1,\n  'hbd_lipinski': 1,\n  'heavy_atoms': 24,\n  'molecular_species': 'ACID',\n  'mw_freebase': '341.75',\n  'mw_monoisotopic': '341.0567',\n  'np_likeness_score': '-1.56',\n  'num_lipinski_ro5_violations': 0,\n  'num_ro5_violations': 0,\n  'psa': '84.82',\n  'qed_weighted': '0.74',\n  'ro3_pass': 'N',\n  'rtb': 3},\n 'molecule_structures': {'canonical_smiles': 'Cc1cc(-n2ncc(=O)[nH]c2=O)ccc1C(=O)c1ccccc1Cl',\n  'molfile': '\\n     RDKit          2D\\n\\n 24 26  0  0  0  0  0  0  0  0999 V2000\\n    5.2792   -2.0500    0.0000 C   0  0  0  0  0  0  0  0  0  0  0  0\\n    5.7917   -2.3500    0.0000 N   0  0  0  0  0  0  0  0  0  0  0  0\\n    5.2792   -1.4500    0.0000 N   0  0  0  0  0  0  0  0  0  0  0  0\\n    6.3125   -2.0500    0.0000 N   0  0  0  0  0  0  0  0  0  0  0  0\\n    5.7875   -4.7417    0.0000 C   0  0  0  0  0  0  0  0  0  0  0  0\\n    5.7875   -4.1417    0.0000 C   0  0  0  0  0  0  0  0  0  0  0  0\\n    6.3125   -1.4500    0.0000 C   0  0  0  0  0  0  0  0  0  0  0  0\\n    6.3042   -5.0417    0.0000 C   0  0  0  0  0  0  0  0  0  0  0  0\\n    5.7917   -1.1500    0.0000 C   0  0  0  0  0  0  0  0  0  0  0  0\\n    5.7917   -2.9500    0.0000 C   0  0  0  0  0  0  0  0  0  0  0  0\\n    5.2667   -3.8417    0.0000 C   0  0  0  0  0  0  0  0  0  0  0  0\\n    5.2667   -3.2417    0.0000 C   0  0  0  0  0  0  0  0  0  0  0  0\\n    6.3042   -3.8417    0.0000 C   0  0  0  0  0  0  0  0  0  0  0  0\\n    4.7542   -2.3417    0.0000 O   0  0  0  0  0  0  0  0  0  0  0  0\\n    6.3042   -5.6417    0.0000 C   0  0  0  0  0  0  0  0  0  0  0  0\\n    5.2667   -5.0417    0.0000 O   0  0  0  0  0  0  0  0  0  0  0  0\\n    6.3042   -3.2417    0.0000 C   0  0  0  0  0  0  0  0  0  0  0  0\\n    5.7917   -0.5500    0.0000 O   0  0  0  0  0  0  0  0  0  0  0  0\\n    5.7792   -5.9417    0.0000 Cl  0  0  0  0  0  0  0  0  0  0  0  0\\n    6.8167   -4.7417    0.0000 C   0  0  0  0  0  0  0  0  0  0  0  0\\n    4.7417   -4.1417    0.0000 C   0  0  0  0  0  0  0  0  0  0  0  0\\n    6.8250   -5.9417    0.0000 C   0  0  0  0  0  0  0  0  0  0  0  0\\n    7.3417   -5.0417    0.0000 C   0  0  0  0  0  0  0  0  0  0  0  0\\n    7.3417   -5.6417    0.0000 C   0  0  0  0  0  0  0  0  0  0  0  0\\n  2  1  1  0\\n  3  1  1  0\\n  4  2  1  0\\n  5  6  1  0\\n  6 13  1  0\\n  7  9  1  0\\n  8  5  1  0\\n  9  3  1  0\\n 10  2  1  0\\n 11 12  1  0\\n 12 10  2  0\\n 13 17  2  0\\n 14  1  2  0\\n 15  8  2  0\\n 16  5  2  0\\n 17 10  1  0\\n 18  9  2  0\\n 19 15  1  0\\n 20  8  1  0\\n 21 11  1  0\\n 22 15  1  0\\n 23 20  2  0\\n 24 23  1  0\\n  4  7  2  0\\n 11  6  2  0\\n 22 24  2  0\\nM  END\\n\\n> <chembl_id>\\nCHEMBL6329\\n\\n> <chembl_pref_name>\\nNone\\n\\n',\n  'standard_inchi': 'InChI=1S/C17H12ClN3O3/c1-10-8-11(21-17(24)20-15(22)9-19-21)6-7-12(10)16(23)13-4-2-3-5-14(13)18/h2-9H,1H3,(H,20,22,24)',\n  'standard_inchi_key': 'OWRSAHYFSSNENM-UHFFFAOYSA-N'},\n 'molecule_synonyms': [],\n 'molecule_type': 'Small molecule',\n 'natural_product': -1,\n 'oral': False,\n 'parenteral': False,\n 'polymer_flag': 0,\n 'pref_name': None,\n 'prodrug': -1,\n 'structure_type': 'MOL',\n 'therapeutic_flag': False,\n 'topical': False,\n 'usan_stem': None,\n 'usan_stem_definition': None,\n 'usan_substem': None,\n 'usan_year': None,\n 'withdrawn_flag': False}"
     },
     "execution_count": 31,
     "metadata": {},
     "output_type": "execute_result"
    }
   ],
   "source": [],
   "metadata": {
    "collapsed": false,
    "pycharm": {
     "name": "#%%\n"
    }
   }
  }
 ],
 "metadata": {
  "kernelspec": {
   "display_name": "Python 3",
   "language": "python",
   "name": "python3"
  },
  "language_info": {
   "codemirror_mode": {
    "name": "ipython",
    "version": 2
   },
   "file_extension": ".py",
   "mimetype": "text/x-python",
   "name": "python",
   "nbconvert_exporter": "python",
   "pygments_lexer": "ipython2",
   "version": "2.7.6"
  }
 },
 "nbformat": 4,
 "nbformat_minor": 0
}
